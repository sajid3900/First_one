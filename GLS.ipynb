{
 "cells": [
  {
   "cell_type": "markdown",
   "metadata": {},
   "source": [
    "# GLS Trial"
   ]
  },
  {
   "cell_type": "code",
   "execution_count": 9,
   "metadata": {},
   "outputs": [
    {
     "name": "stdout",
     "output_type": "stream",
     "text": [
      "Pe = 10.0\n"
     ]
    },
    {
     "data": {
      "image/png": "[encoded data removed]",
      "text/plain": [
       "<Figure size 432x288 with 1 Axes>"
      ]
     },
     "metadata": {
      "needs_background": "light"
     },
     "output_type": "display_data"
    },
    {
     "data": {
      "image/png": "[encoded data removed]",
      "text/plain": [
       "<Figure size 432x288 with 1 Axes>"
      ]
     },
     "metadata": {
      "needs_background": "light"
     },
     "output_type": "display_data"
    }
   ],
   "source": [
    "from firedrake import *\n",
    "import matplotlib.pyplot as plt\n",
    "#from sympy.mpmath import *\n",
    "\n",
    "\n",
    "N = 25\n",
    "mesh = UnitIntervalMesh(N)\n",
    "\n",
    "e = 1  # diffusion constant \n",
    "b = 500  # convection constant\n",
    "\n",
    "V = FunctionSpace(mesh, 'CG', 1)\n",
    "u = TrialFunction(V)\n",
    "v = TestFunction(V)\n",
    "\n",
    "\n",
    "x = SpatialCoordinate(mesh)[0]\n",
    "\n",
    "f = Function(V)\n",
    "f = Constant(0)\n",
    "\n",
    "\n",
    "boundary_ids1 = {1} # boundaries x=0 \n",
    "boundary_ids2 = {2} # boundaries x=1 \n",
    "\n",
    "bc1 = DirichletBC(V,0,boundary_ids1) # Boundary conditions for x=0\n",
    "bc2 = DirichletBC(V,1,boundary_ids2) # Boundary conditions for x=1\n",
    "\n",
    "h = 1/N\n",
    "pe = b/(2*e*N)\n",
    "#dell =0.001 \n",
    "dell = (h/(2*b))*( ((exp(2*pe)+1)/(exp(2*pe)-1)) - 1/pe)\n",
    "\n",
    "uh = Function(V)\n",
    "L = f*v*dx\n",
    "a = ( e * dot(grad(v),grad(u)) ) * dx + ( b * u.dx(0) * v * dx) + dell * dot(b*grad(v),b*grad(u)) * dx\n",
    "\n",
    "solve(a == L, uh, bcs=[bc1,bc2])\n",
    "\n",
    "print ('Pe =',pe)\n",
    "plot(uh)\n",
    "plt.title(pe) \n",
    "\n",
    "u_exact = Function(V)\n",
    "u_exact = (exp(b*x/e)-1)/(exp(b/e)-1)\n",
    "difference = assemble(interpolate(u_exact, V) - uh)\n",
    "plot(difference)\n",
    "plt.title('Error') \n",
    "plt.show()"
   ]
  },
  {
   "cell_type": "code",
   "execution_count": 28,
   "metadata": {},
   "outputs": [
    {
     "name": "stdout",
     "output_type": "stream",
     "text": [
      "Pe = 10.0\n"
     ]
    },
    {
     "data": {
      "image/png": "[encoded data removed]",
      "text/plain": [
       "<Figure size 432x288 with 1 Axes>"
      ]
     },
     "metadata": {
      "needs_background": "light"
     },
     "output_type": "display_data"
    },
    {
     "data": {
      "image/png": "[encoded data removed]",
      "text/plain": [
       "<Figure size 432x288 with 1 Axes>"
      ]
     },
     "metadata": {
      "needs_background": "light"
     },
     "output_type": "display_data"
    }
   ],
   "source": [
    "from firedrake import *\n",
    "import matplotlib.pyplot as plt\n",
    "#from sympy.mpmath import *\n",
    "\n",
    "\n",
    "N = 25\n",
    "mesh = UnitIntervalMesh(N)\n",
    "\n",
    "e = 1  # diffusion constant\n",
    "\n",
    "b = 500  # convection constant\n",
    "\n",
    "\n",
    "V = FunctionSpace(mesh, 'CG', 1)\n",
    "u = TrialFunction(V)\n",
    "v = TestFunction(V)\n",
    "\n",
    "\n",
    "x = SpatialCoordinate(mesh)[0]\n",
    "\n",
    "f = Function(V)\n",
    "f = Constant(0)\n",
    "\n",
    "\n",
    "boundary_ids1 = {1} # boundaries x=0 \n",
    "boundary_ids2 = {2} # boundaries x=1 \n",
    "\n",
    "bc1 = DirichletBC(V,0,boundary_ids1) # Boundary conditions for x=0\n",
    "bc2 = DirichletBC(V,1,boundary_ids2) # Boundary conditions for x=1\n",
    "\n",
    "h = 1/N\n",
    "pe = b/(2*e*N)\n",
    "#dell =0.001 \n",
    "dell = (h/(2*b))*( ((exp(2*pe)+1)/(exp(2*pe)-1)) - 1/pe)\n",
    "\n",
    "uh = Function(V)\n",
    "L = f*v*dx\n",
    "a = ( e * dot(grad(v),grad(u)) ) * dx + ( b * u.dx(0) * v * dx) + dell * dot(b*grad(v),b*grad(u)) * dx\n",
    "\n",
    "solve(a == L, uh, bcs=[bc1,bc2])\n",
    "\n",
    "print ('Pe =',pe)\n",
    "plot(uh)\n",
    "plt.title(pe) \n",
    "\n",
    "u_exact = Function(V)\n",
    "u_exact = (exp(b*x/e)-1)/(exp(b/e)-1)\n",
    "difference = assemble(interpolate(u_exact, V) - uh)\n",
    "plot(difference)\n",
    "plt.title('Error') \n",
    "plt.show()"
   ]
  },
  {
   "cell_type": "code",
   "execution_count": null,
   "metadata": {},
   "outputs": [],
   "source": []
  }
 ],
 "metadata": {
  "kernelspec": {
   "display_name": "Python 3",
   "language": "python",
   "name": "python3"
  },
  "language_info": {
   "codemirror_mode": {
    "name": "ipython",
    "version": 3
   },
   "file_extension": ".py",
   "mimetype": "text/x-python",
   "name": "python",
   "nbconvert_exporter": "python",
   "pygments_lexer": "ipython3",
   "version": "3.6.7"
  }
 },
 "nbformat": 4,
 "nbformat_minor": 2
}
